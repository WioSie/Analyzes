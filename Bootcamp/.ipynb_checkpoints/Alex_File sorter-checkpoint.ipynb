{
 "cells": [
  {
   "cell_type": "code",
   "execution_count": 1,
   "id": "6fdcbbb1",
   "metadata": {},
   "outputs": [],
   "source": [
    "import os, shutil "
   ]
  },
  {
   "cell_type": "code",
   "execution_count": 9,
   "id": "fceb15f6",
   "metadata": {},
   "outputs": [],
   "source": [
    "path = r'C:/Users/Wioletta/Desktop\\DATA/Tutorial/'"
   ]
  },
  {
   "cell_type": "code",
   "execution_count": 23,
   "id": "2f62a005",
   "metadata": {},
   "outputs": [],
   "source": [
    "file_name=os.listdir(path)"
   ]
  },
  {
   "cell_type": "code",
   "execution_count": 24,
   "id": "f629f638",
   "metadata": {},
   "outputs": [],
   "source": [
    "folder_names = ['csv files', 'imagine files', 'tekst files']\n",
    "\n",
    "for loop in range(0,3):\n",
    "    if not os.path.exists(path + folder_names[loop]):\n",
    "#         print(path + folder_names[loop])\n",
    "        os.makedirs(path + folder_names[loop])\n",
    "\n",
    "for file in file_name:\n",
    "    if '.csv' in file and not os.path.exists(path + \"csv files/\"+ file):\n",
    "        shutil.move(path + file, path + \"csv files/\"+ file)\n",
    "    elif '.png' in file and not os.path.exists(path + \"imagine files/\"+ file):\n",
    "        shutil.move(path + file, path + \"imagine files/\"+ file)\n",
    "    elif '.txt' in file and not os.path.exists(path + \"tekst files/\"+ file):\n",
    "        shutil.move(path + file, path + \"tekst files/\"+ file)"
   ]
  },
  {
   "cell_type": "code",
   "execution_count": 22,
   "id": "c2c188d3",
   "metadata": {},
   "outputs": [
    {
     "name": "stdout",
     "output_type": "stream",
     "text": [
      "This file type not include\n",
      "This file type not include\n",
      "This file type not include\n",
      "This file type not include\n"
     ]
    }
   ],
   "source": []
  },
  {
   "cell_type": "code",
   "execution_count": null,
   "id": "56ef210f",
   "metadata": {},
   "outputs": [],
   "source": []
  }
 ],
 "metadata": {
  "kernelspec": {
   "display_name": "Python 3 (ipykernel)",
   "language": "python",
   "name": "python3"
  },
  "language_info": {
   "codemirror_mode": {
    "name": "ipython",
    "version": 3
   },
   "file_extension": ".py",
   "mimetype": "text/x-python",
   "name": "python",
   "nbconvert_exporter": "python",
   "pygments_lexer": "ipython3",
   "version": "3.9.13"
  }
 },
 "nbformat": 4,
 "nbformat_minor": 5
}
