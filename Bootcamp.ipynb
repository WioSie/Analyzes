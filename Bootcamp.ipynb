{
 "cells": [
  {
   "cell_type": "code",
   "execution_count": 1,
   "id": "159eaa6e",
   "metadata": {},
   "outputs": [],
   "source": [
    "#dla listy\n",
    "integers=[1,2,3,4,5]"
   ]
  },
  {
   "cell_type": "code",
   "execution_count": 2,
   "id": "cf168c0d",
   "metadata": {},
   "outputs": [
    {
     "name": "stdout",
     "output_type": "stream",
     "text": [
      "1\n",
      "2\n",
      "3\n",
      "4\n",
      "5\n"
     ]
    }
   ],
   "source": [
    "for number in integers:\n",
    "    print(number)"
   ]
  },
  {
   "cell_type": "code",
   "execution_count": 3,
   "id": "09a39a6c",
   "metadata": {},
   "outputs": [],
   "source": [
    "#dla słownika\n",
    "ice_cream_dist = {'name': 'Alex Freberg', 'weekly intake':5, 'favorite ice cream':['MMc','chocolate']}"
   ]
  },
  {
   "cell_type": "code",
   "execution_count": 7,
   "id": "549cd693",
   "metadata": {},
   "outputs": [
    {
     "name": "stdout",
     "output_type": "stream",
     "text": [
      "Alex Freberg\n",
      "5\n",
      "['MMc', 'chocolate']\n"
     ]
    }
   ],
   "source": [
    "for cream in ice_cream_dist.values():\n",
    "    print(cream)"
   ]
  },
  {
   "cell_type": "code",
   "execution_count": 10,
   "id": "aaeb7640",
   "metadata": {},
   "outputs": [
    {
     "name": "stdout",
     "output_type": "stream",
     "text": [
      "name -> Alex Freberg\n",
      "weekly intake -> 5\n",
      "favorite ice cream -> ['MMc', 'chocolate']\n"
     ]
    }
   ],
   "source": [
    "for key, value in ice_cream_dist.items():\n",
    "    print(key, '->', value)"
   ]
  },
  {
   "cell_type": "code",
   "execution_count": 11,
   "id": "05e9f6e0",
   "metadata": {},
   "outputs": [],
   "source": [
    "flavors = ['Vanilla', 'Chocolate', 'Cookie Dough']\n",
    "topping= ['Hot Fudge', 'Oreo', 'Marshmallows']"
   ]
  },
  {
   "cell_type": "code",
   "execution_count": 12,
   "id": "b1cba2dc",
   "metadata": {},
   "outputs": [
    {
     "name": "stdout",
     "output_type": "stream",
     "text": [
      "Vanilla  topped with  Hot Fudge\n",
      "Vanilla  topped with  Oreo\n",
      "Vanilla  topped with  Marshmallows\n",
      "Chocolate  topped with  Hot Fudge\n",
      "Chocolate  topped with  Oreo\n",
      "Chocolate  topped with  Marshmallows\n",
      "Cookie Dough  topped with  Hot Fudge\n",
      "Cookie Dough  topped with  Oreo\n",
      "Cookie Dough  topped with  Marshmallows\n"
     ]
    }
   ],
   "source": [
    "for one in flavors:\n",
    "    for two in topping:\n",
    "        print(one,' topped with ', two)"
   ]
  },
  {
   "cell_type": "code",
   "execution_count": null,
   "id": "13d5d142",
   "metadata": {},
   "outputs": [],
   "source": []
  }
 ],
 "metadata": {
  "kernelspec": {
   "display_name": "Python 3 (ipykernel)",
   "language": "python",
   "name": "python3"
  },
  "language_info": {
   "codemirror_mode": {
    "name": "ipython",
    "version": 3
   },
   "file_extension": ".py",
   "mimetype": "text/x-python",
   "name": "python",
   "nbconvert_exporter": "python",
   "pygments_lexer": "ipython3",
   "version": "3.9.13"
  }
 },
 "nbformat": 4,
 "nbformat_minor": 5
}
